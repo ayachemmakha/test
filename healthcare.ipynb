{
 "cells": [
  {
   "cell_type": "markdown",
   "id": "a79aef06",
   "metadata": {},
   "source": [
    "# 🏡 Nom du Dataset : California Housing Dataset"
   ]
  },
  {
   "cell_type": "markdown",
   "id": "72e4219e",
   "metadata": {},
   "source": [
    "## **AYA CHEMMAKHA**\n",
    "## **IA102**"
   ]
  },
  {
   "cell_type": "markdown",
   "id": "2bde644a",
   "metadata": {},
   "source": [
    "# Bibliothèques pour la manipulation des données"
   ]
  },
  {
   "cell_type": "code",
   "execution_count": null,
   "id": "5aa1c901",
   "metadata": {},
   "outputs": [],
   "source": [
    "\n",
    "import pandas as pd\n",
    "import numpy as np\n",
    "import matplotlib.pyplot as plt\n",
    "import seaborn as sns\n",
    "from sklearn.model_selection import train_test_split, cross_val_score\n",
    "from sklearn.metrics import mean_squared_error, r2_score, mean_absolute_error\n",
    "from sklearn.linear_model import LinearRegression, Ridge, Lasso\n",
    "from sklearn.neighbors import KNeighborsRegressor\n",
    "from sklearn.tree import DecisionTreeRegressor\n",
    "from sklearn.ensemble import RandomForestRegressor\n",
    "from sklearn.svm import SVR\n",
    "from sklearn.preprocessing import StandardScaler\n",
    "from sklearn.preprocessing import LabelEncoder\n",
    "import warnings\n",
    "warnings.filterwarnings('ignore')\n"
   ]
  },
  {
   "cell_type": "markdown",
   "id": "882b6332",
   "metadata": {},
   "source": [
    "# ***PARTIE 1:***"
   ]
  },
  {
   "cell_type": "markdown",
   "id": "4a5f87b5",
   "metadata": {},
   "source": [
    "## 🏠 Description des colonnes – California Housing Dataset\n",
    "\n",
    "| 🏷️ Colonne        | 📘 Description |\n",
    "|-------------------|----------------|\n",
    "| **MedInc**        | Revenu médian des ménages dans le quartier *(en dizaines de milliers de dollars)*. Exemple : `8.3252` → **83 252 $**. |\n",
    "| **HouseAge**      | Âge médian des maisons dans le quartier *(en années)*. Exemple : `41.0` → maisons plutôt anciennes. |\n",
    "| **AveRooms**      | Nombre moyen de **pièces** par logement (chambres + salon + cuisine, etc.). |\n",
    "| **AveBedrms**     | Nombre moyen de **chambres à coucher** par logement. |\n",
    "| **Population**    | Nombre total d’habitants dans le quartier. |\n",
    "| **AveOccup**      | Nombre moyen de personnes **par logement**. Exemple : `2.5` → chaque logement est occupé en moyenne par 2.5 personnes. |\n",
    "| **Latitude**      | Latitude géographique du quartier. Permet de situer le quartier sur la carte (axe nord-sud). |\n",
    "| **Longitude**     | Longitude géographique du quartier. Permet de situer le quartier sur la carte (axe est-ouest). |\n",
    "| **MedHouseVal**   | 🎯 **Variable cible** : valeur médiane des maisons *(en centaines de milliers de dollars)*. Exemple : `4.526` → **452 600 $**. |\n"
   ]
  },
  {
   "cell_type": "markdown",
   "id": "49cb6e42",
   "metadata": {},
   "source": [
    "# Charger les données"
   ]
  },
  {
   "cell_type": "code",
   "execution_count": null,
   "id": "39cc674c",
   "metadata": {},
   "outputs": [],
   "source": [
    "from sklearn.datasets import fetch_california_housing\n",
    "import pandas as pd\n",
    "\n",
    "data = fetch_california_housing(as_frame=True)\n",
    "df = data.frame\n",
    "df"
   ]
  },
  {
   "cell_type": "markdown",
   "id": "99290d94",
   "metadata": {},
   "source": []
  },
  {
   "cell_type": "code",
   "execution_count": null,
   "id": "2b39ba65",
   "metadata": {},
   "outputs": [],
   "source": [
    "df.shape"
   ]
  },
  {
   "cell_type": "code",
   "execution_count": null,
   "id": "869a67c4",
   "metadata": {},
   "outputs": [],
   "source": [
    "df.dtypes"
   ]
  },
  {
   "cell_type": "code",
   "execution_count": null,
   "id": "2295b348",
   "metadata": {},
   "outputs": [],
   "source": [
    "df.describe()"
   ]
  },
  {
   "cell_type": "markdown",
   "id": "2a6300ca",
   "metadata": {},
   "source": [
    "# ✅ 2. Prétraitement des données (Data Cleaning)\n"
   ]
  },
  {
   "cell_type": "markdown",
   "id": "f15501ad",
   "metadata": {},
   "source": [
    "## **Valeurs manquantes :**\n"
   ]
  },
  {
   "cell_type": "code",
   "execution_count": null,
   "id": "a5ade56d",
   "metadata": {},
   "outputs": [],
   "source": [
    "df.isna().sum()"
   ]
  },
  {
   "cell_type": "code",
   "execution_count": null,
   "id": "56fb5b57",
   "metadata": {},
   "outputs": [],
   "source": [
    "df.duplicated().sum()"
   ]
  },
  {
   "cell_type": "code",
   "execution_count": null,
   "id": "eb8bf085",
   "metadata": {},
   "outputs": [],
   "source": [
    "df.select_dtypes(exclude=['object'])"
   ]
  },
  {
   "cell_type": "code",
   "execution_count": null,
   "id": "a625d5aa",
   "metadata": {},
   "outputs": [],
   "source": [
    "from scipy import stats\n",
    "\n",
    "def detect_outliers(df, column):\n",
    "    z_scores = stats.zscore(df[column])\n",
    "    threshold = 3\n",
    "    outliers = df[np.abs(z_scores) > threshold][column]\n",
    "    return outliers\n",
    "\n",
    "def remove_outliers(df, column):\n",
    "    z_scores = stats.zscore(df[column])\n",
    "    threshold = 3\n",
    "    new_df = df[np.abs(z_scores) < threshold]\n",
    "    return new_df\n"
   ]
  },
  {
   "cell_type": "code",
   "execution_count": null,
   "id": "723eb418",
   "metadata": {},
   "outputs": [],
   "source": [
    "for i in df.select_dtypes(exclude=['object']) :\n",
    "    print(f\"Colonne {i}: {detect_outliers(df, i).count()}\")"
   ]
  },
  {
   "cell_type": "code",
   "execution_count": null,
   "id": "1784c7fd",
   "metadata": {},
   "outputs": [],
   "source": [
    "plt.figure(figsize=(30, 5))  # Ajuste la taille du graphique\n",
    "\n",
    "for i, col in enumerate(df.select_dtypes(include='number').columns, 1,):\n",
    "    plt.subplot(1, len(df.columns), i)  # Crée des sous-graphiques côte à côte\n",
    "    sns.boxplot(y=df[col])\n",
    "    plt.title(col)\n",
    "\n",
    "plt.tight_layout()  # Ajuste les espacements\n",
    "plt.show()"
   ]
  },
  {
   "cell_type": "markdown",
   "id": "0a5cef1b",
   "metadata": {},
   "source": [
    "## pour la Colonne MedInc\n"
   ]
  },
  {
   "cell_type": "code",
   "execution_count": null,
   "id": "94a94830",
   "metadata": {},
   "outputs": [],
   "source": [
    "Q1 = df['MedInc'].quantile(0.25)  \n",
    "Q3 = df['MedInc'].quantile(0.75)  \n",
    "IQR = Q3 - Q1  \n",
    "lower_bound = Q1 - 1.5 * IQR  \n",
    "upper_bound = Q3 + 1.5 * IQR  "
   ]
  },
  {
   "cell_type": "code",
   "execution_count": null,
   "id": "9a46c259",
   "metadata": {},
   "outputs": [],
   "source": [
    "df.shape"
   ]
  },
  {
   "cell_type": "code",
   "execution_count": null,
   "id": "7586453c",
   "metadata": {},
   "outputs": [],
   "source": [
    "df['MedInc'].describe()"
   ]
  },
  {
   "cell_type": "code",
   "execution_count": null,
   "id": "91d98ae1",
   "metadata": {},
   "outputs": [],
   "source": [
    "df.drop(df[df['MedInc']<=lower_bound].index, inplace=True)\n",
    "df.drop(df[df['MedInc']>=upper_bound].index, inplace=True)"
   ]
  },
  {
   "cell_type": "code",
   "execution_count": null,
   "id": "8ab70040",
   "metadata": {},
   "outputs": [],
   "source": [
    "df['MedInc'].describe()"
   ]
  },
  {
   "cell_type": "code",
   "execution_count": null,
   "id": "da54d79a",
   "metadata": {},
   "outputs": [],
   "source": [
    "df.shape"
   ]
  },
  {
   "cell_type": "markdown",
   "id": "0a87bdca",
   "metadata": {},
   "source": [
    "## pour la colonnes AveRooms"
   ]
  },
  {
   "cell_type": "code",
   "execution_count": null,
   "id": "488bf93b",
   "metadata": {},
   "outputs": [],
   "source": [
    "df['AveRooms'].describe()"
   ]
  },
  {
   "cell_type": "code",
   "execution_count": null,
   "id": "5ff92fd0",
   "metadata": {},
   "outputs": [],
   "source": [
    "Q1 = df['AveRooms'].quantile(0.25)  \n",
    "Q3 = df['AveRooms'].quantile(0.75)  \n",
    "IQR = Q3 - Q1  \n",
    "lower_bound = Q1 - 1.5 * IQR  \n",
    "upper_bound = Q3 + 1.5 * IQR  \n",
    "\n",
    "\n",
    "df.drop(df[df['AveRooms']<=lower_bound].index, inplace=True)\n",
    "df.drop(df[df['AveRooms']>=upper_bound].index, inplace=True)"
   ]
  },
  {
   "cell_type": "code",
   "execution_count": null,
   "id": "fccfb977",
   "metadata": {},
   "outputs": [],
   "source": [
    "df['AveRooms'].describe()"
   ]
  },
  {
   "cell_type": "markdown",
   "id": "e997b0c1",
   "metadata": {},
   "source": [
    "## pour la colonnes AveBedrms:"
   ]
  },
  {
   "cell_type": "code",
   "execution_count": null,
   "id": "ece99a67",
   "metadata": {},
   "outputs": [],
   "source": [
    "df['AveBedrms'].describe()"
   ]
  },
  {
   "cell_type": "code",
   "execution_count": null,
   "id": "2d6f4bfb",
   "metadata": {},
   "outputs": [],
   "source": [
    "Q1 = df['AveBedrms'].quantile(0.25)  \n",
    "Q3 = df['AveBedrms'].quantile(0.75)  \n",
    "IQR = Q3 - Q1  \n",
    "lower_bound = Q1 - 1.5 * IQR  \n",
    "upper_bound = Q3 + 1.5 * IQR  \n",
    "\n",
    "\n",
    "df.drop(df[df['AveBedrms']<=lower_bound].index, inplace=True)\n",
    "df.drop(df[df['AveBedrms']>=upper_bound].index, inplace=True)"
   ]
  },
  {
   "cell_type": "code",
   "execution_count": null,
   "id": "b17d670e",
   "metadata": {},
   "outputs": [],
   "source": [
    "df['AveBedrms'].describe()"
   ]
  },
  {
   "cell_type": "markdown",
   "id": "aa947246",
   "metadata": {},
   "source": [
    "## pour la colonne Population"
   ]
  },
  {
   "cell_type": "code",
   "execution_count": null,
   "id": "9a53d9e2",
   "metadata": {},
   "outputs": [],
   "source": [
    "df['Population'].describe()\n"
   ]
  },
  {
   "cell_type": "code",
   "execution_count": null,
   "id": "6a827a71",
   "metadata": {},
   "outputs": [],
   "source": [
    "Q1 = df['Population'].quantile(0.25)  \n",
    "Q3 = df['Population'].quantile(0.75)  \n",
    "IQR = Q3 - Q1  \n",
    "lower_bound = Q1 - 1.5 * IQR  \n",
    "upper_bound = Q3 + 1.5 * IQR  \n",
    "\n",
    "\n",
    "df.drop(df[df['Population']<=lower_bound].index, inplace=True)\n",
    "df.drop(df[df['Population']>=upper_bound].index, inplace=True)"
   ]
  },
  {
   "cell_type": "code",
   "execution_count": null,
   "id": "d27b2654",
   "metadata": {},
   "outputs": [],
   "source": [
    "df['Population'].describe()"
   ]
  },
  {
   "cell_type": "markdown",
   "id": "4f42e324",
   "metadata": {},
   "source": [
    "## pour la Colonne AveOccup\n"
   ]
  },
  {
   "cell_type": "code",
   "execution_count": null,
   "id": "c9f47cc8",
   "metadata": {},
   "outputs": [],
   "source": [
    "df['AveOccup'].describe()"
   ]
  },
  {
   "cell_type": "code",
   "execution_count": null,
   "id": "dba2f295",
   "metadata": {},
   "outputs": [],
   "source": [
    "Q1 = df['AveOccup'].quantile(0.25)  \n",
    "Q3 = df['AveOccup'].quantile(0.75)  \n",
    "IQR = Q3 - Q1  \n",
    "lower_bound = Q1 - 1.5 * IQR  \n",
    "upper_bound = Q3 + 1.5 * IQR  \n",
    "\n",
    "\n",
    "df.drop(df[df['AveOccup']<=lower_bound].index, inplace=True)\n",
    "df.drop(df[df['AveOccup']>=upper_bound].index, inplace=True)"
   ]
  },
  {
   "cell_type": "code",
   "execution_count": null,
   "id": "176536a9",
   "metadata": {},
   "outputs": [],
   "source": [
    "df['AveOccup'].describe()"
   ]
  },
  {
   "cell_type": "code",
   "execution_count": null,
   "id": "823d7f8b",
   "metadata": {},
   "outputs": [],
   "source": [
    "for i in df.select_dtypes(exclude=['object']) :\n",
    "    print(f\"Colonne {i}: {detect_outliers(df, i).count()}\")"
   ]
  },
  {
   "cell_type": "code",
   "execution_count": null,
   "id": "fc05b99c",
   "metadata": {},
   "outputs": [],
   "source": [
    "plt.figure(figsize=(30, 10))  # Ajuste la taille du graphique\n",
    "\n",
    "for i, col in enumerate(df.select_dtypes(include='number').columns, 1,):\n",
    "    plt.subplot(1, len(df.columns), i)  # Crée des sous-graphiques côte à côte\n",
    "    sns.boxplot(y=df[col])\n",
    "    plt.title(col)\n",
    "\n",
    "plt.tight_layout()  # Ajuste les espacements\n",
    "plt.show()"
   ]
  },
  {
   "cell_type": "code",
   "execution_count": null,
   "id": "d416d1f9",
   "metadata": {},
   "outputs": [],
   "source": [
    "df.hist(edgecolor='pink', alpha=0.7 , figsize=(20,15))\n",
    "plt.show()"
   ]
  },
  {
   "cell_type": "markdown",
   "id": "5fa17269",
   "metadata": {},
   "source": [
    "## ***. ENCODING : Nettoyage des chaînes de caractères***"
   ]
  },
  {
   "cell_type": "code",
   "execution_count": null,
   "id": "eadecfe1",
   "metadata": {},
   "outputs": [],
   "source": [
    "df.select_dtypes(include=['object'])"
   ]
  },
  {
   "cell_type": "markdown",
   "id": "3afdd652",
   "metadata": {},
   "source": [
    "# ✅ 3. Normalisation / Standardisation"
   ]
  },
  {
   "cell_type": "code",
   "execution_count": null,
   "id": "74f5e9dc",
   "metadata": {},
   "outputs": [],
   "source": [
    "scaler = StandardScaler()\n",
    "X_scaled = scaler.fit_transform(df.drop(\"MedHouseVal\", axis=1))\n"
   ]
  },
  {
   "cell_type": "markdown",
   "id": "550ec118",
   "metadata": {},
   "source": [
    "# ✅ 4. Exploration des données (EDA)"
   ]
  },
  {
   "cell_type": "code",
   "execution_count": null,
   "id": "e41f2ff0",
   "metadata": {},
   "outputs": [],
   "source": [
    "df.hist(bins=30, figsize=(12,10))"
   ]
  },
  {
   "cell_type": "code",
   "execution_count": null,
   "id": "5ad69cf9",
   "metadata": {},
   "outputs": [],
   "source": [
    "plt.figure(figsize=(12, 8))\n",
    "sns.heatmap(df.corr(), annot=True, fmt='.2f', cmap='coolwarm', square=True)\n",
    "plt.title(\"Matrice de corrélation\", fontsize=16)\n",
    "plt.show()"
   ]
  },
  {
   "cell_type": "code",
   "execution_count": null,
   "id": "1709b8f7",
   "metadata": {},
   "outputs": [],
   "source": [
    "sns.boxplot(x='MedHouseVal', data=df)\n",
    "sns.pairplot(df)\n"
   ]
  },
  {
   "cell_type": "code",
   "execution_count": null,
   "id": "3ce7b1de",
   "metadata": {},
   "outputs": [],
   "source": [
    "plt.figure(figsize=(10, 5))\n",
    "sns.histplot(df['Population'], kde=True, color='purple')\n",
    "plt.title(\"Distribution de la population par quartier\")\n",
    "plt.xlabel(\"Population\")\n",
    "plt.ylabel(\"Densité\")\n",
    "plt.show()"
   ]
  },
  {
   "cell_type": "markdown",
   "id": "c279ceb2",
   "metadata": {},
   "source": [
    "### Répartition géographique des maisons en Californie"
   ]
  },
  {
   "cell_type": "code",
   "execution_count": null,
   "id": "4f7b3099",
   "metadata": {},
   "outputs": [],
   "source": [
    "print(df['Longitude'].min(), df['Longitude'].max())\n"
   ]
  },
  {
   "cell_type": "code",
   "execution_count": null,
   "id": "3821120e",
   "metadata": {},
   "outputs": [],
   "source": [
    "plt.figure(figsize=(10, 8))\n",
    "sns.scatterplot(data=df, x='Longitude', y='Latitude', hue='MedHouseVal', palette='viridis', alpha=0.6)\n",
    "plt.title(\"Répartition géographique des maisons en Californie\", fontsize=15)\n",
    "plt.xlabel(\"Longitude\")\n",
    "plt.ylabel(\"Latitude\")\n",
    "plt.legend(title='Valeur Maison')\n",
    "plt.show()\n"
   ]
  },
  {
   "cell_type": "markdown",
   "id": "7eb2ee84",
   "metadata": {},
   "source": [
    "# ***Partie 2  : modele machine learning :***"
   ]
  },
  {
   "cell_type": "code",
   "execution_count": null,
   "id": "bb9287bc",
   "metadata": {},
   "outputs": [],
   "source": [
    "df "
   ]
  },
  {
   "cell_type": "markdown",
   "id": "ea2f1c15",
   "metadata": {},
   "source": [
    "# 📊 l'objectif est  prédire la valeur médiane des maisons (MedHouseVal) en fonction des caractéristiques des quartiers "
   ]
  },
  {
   "cell_type": "markdown",
   "id": "1c5c78d3",
   "metadata": {},
   "source": [
    "# **modèle de régression linéaire**"
   ]
  },
  {
   "cell_type": "markdown",
   "id": "786f7a7a",
   "metadata": {},
   "source": [
    "\n",
    "## Séparation des variables (X et y)\n",
    "\n",
    "\n"
   ]
  },
  {
   "cell_type": "code",
   "execution_count": null,
   "id": "1a9d0ced",
   "metadata": {},
   "outputs": [],
   "source": [
    "X = df.drop(columns='MedHouseVal')\n",
    "y = df['MedHouseVal']\n"
   ]
  },
  {
   "cell_type": "markdown",
   "id": "8b0d510c",
   "metadata": {},
   "source": [
    "## Division en jeu d'entraînement/test"
   ]
  },
  {
   "cell_type": "code",
   "execution_count": null,
   "id": "975851ac",
   "metadata": {},
   "outputs": [],
   "source": [
    "X_train, X_test, y_train, y_test = train_test_split(X, y, test_size=0.2, random_state=42)"
   ]
  },
  {
   "cell_type": "markdown",
   "id": "bd74af1b",
   "metadata": {},
   "source": [
    "## Création et entraînement du modèle"
   ]
  },
  {
   "cell_type": "code",
   "execution_count": null,
   "id": "e56715c5",
   "metadata": {},
   "outputs": [],
   "source": [
    "model = LinearRegression()\n",
    "model.fit(X_train, y_train)"
   ]
  },
  {
   "cell_type": "code",
   "execution_count": null,
   "id": "89cf25df",
   "metadata": {},
   "outputs": [],
   "source": [
    "# 4. Prédictions\n",
    "y_pred = model.predict(X_test)"
   ]
  },
  {
   "cell_type": "markdown",
   "id": "c10fea6d",
   "metadata": {},
   "source": [
    "## Évaluation du modèle"
   ]
  },
  {
   "cell_type": "code",
   "execution_count": null,
   "id": "a5a0b64a",
   "metadata": {},
   "outputs": [],
   "source": [
    "print(\"Coefficients :\", model.coef_)\n",
    "print(\"Intercept :\", model.intercept_)\n",
    "print(\"MSE :\", mean_squared_error(y_test, y_pred))\n",
    "print(\"R² Score :\", r2_score(y_test, y_pred))\n"
   ]
  },
  {
   "cell_type": "markdown",
   "id": "f417cae9",
   "metadata": {},
   "source": [
    "## Affichage des résultats"
   ]
  },
  {
   "cell_type": "code",
   "execution_count": null,
   "id": "0cf10699",
   "metadata": {},
   "outputs": [],
   "source": [
    "plt.figure(figsize=(8, 6))\n",
    "plt.scatter(y_test, y_pred, alpha=0.5, color='teal')\n",
    "plt.plot([y_test.min(), y_test.max()], [y_test.min(), y_test.max()], 'r--')\n",
    "plt.xlabel(\"Valeurs réelles\")\n",
    "plt.ylabel(\"Valeurs prédites\")\n",
    "plt.title(\"Régression linéaire : Réel vs Prédit\")\n",
    "plt.grid(True)\n",
    "plt.show()"
   ]
  },
  {
   "cell_type": "code",
   "execution_count": null,
   "id": "a30830b7",
   "metadata": {},
   "outputs": [],
   "source": [
    "from sklearn.model_selection import cross_val_score\n",
    "\n",
    "scores = cross_val_score(model, X_scaled, y, cv=5, scoring='r2')\n",
    "print(\"R² moyen en validation croisée :\", scores.mean())\n"
   ]
  },
  {
   "cell_type": "markdown",
   "id": "2d8b80d0",
   "metadata": {},
   "source": [
    "<div style=\"text-align: center;\">\n",
    "    <h2>K-Nearest Neighbors</h2>\n",
    "</div>"
   ]
  },
  {
   "cell_type": "code",
   "execution_count": null,
   "id": "46d4994f",
   "metadata": {},
   "outputs": [],
   "source": [
    "X = df.drop(columns='MedHouseVal')\n",
    "y = df['MedHouseVal']"
   ]
  },
  {
   "cell_type": "markdown",
   "id": "726e08e4",
   "metadata": {},
   "source": [
    "# 2. Standardisation (obligatoire pour KNN)\n"
   ]
  },
  {
   "cell_type": "code",
   "execution_count": null,
   "id": "73283a13",
   "metadata": {},
   "outputs": [],
   "source": [
    "\n",
    "scaler = StandardScaler()\n",
    "X_scaled = scaler.fit_transform(X)"
   ]
  },
  {
   "cell_type": "code",
   "execution_count": null,
   "id": "1f69f31e",
   "metadata": {},
   "outputs": [],
   "source": [
    "\n",
    "X_train, X_test, y_train, y_test = train_test_split(X_scaled, y, test_size=0.2, random_state=42)"
   ]
  },
  {
   "cell_type": "code",
   "execution_count": null,
   "id": "f3870d73",
   "metadata": {},
   "outputs": [],
   "source": [
    "knn = KNeighborsRegressor(n_neighbors=5)  # Tu peux tester d'autres valeurs de k (3, 7, 10...)\n",
    "knn.fit(X_train, y_train)"
   ]
  },
  {
   "cell_type": "code",
   "execution_count": null,
   "id": "268ba575",
   "metadata": {},
   "outputs": [],
   "source": [
    "y_pred = knn.predict(X_test)\n",
    "print(\"📉 MSE :\", mean_squared_error(y_test, y_pred))\n",
    "print(\"📈 R² Score :\", r2_score(y_test, y_pred))"
   ]
  },
  {
   "cell_type": "code",
   "execution_count": null,
   "id": "1296f428",
   "metadata": {},
   "outputs": [],
   "source": [
    "for k in range(1, 21):\n",
    "    knn = KNeighborsRegressor(n_neighbors=k)\n",
    "    knn.fit(X_train, y_train)\n",
    "    print(f\"k={k} → R² = {knn.score(X_test, y_test):.4f}\")\n"
   ]
  },
  {
   "cell_type": "markdown",
   "id": "05e8261d",
   "metadata": {},
   "source": [
    "<div style=\"text-align: center;\">\n",
    "    <h2>Decision Tree</h2>\n",
    "</div>"
   ]
  },
  {
   "cell_type": "markdown",
   "metadata": {},
   "source": []
  },
  {
   "cell_type": "code",
   "execution_count": null,
   "id": "b8c8bd9a",
   "metadata": {},
   "outputs": [],
   "source": [
    "from sklearn.tree import DecisionTreeRegressor\n",
    "from sklearn.model_selection import train_test_split\n",
    "from sklearn.metrics import mean_squared_error, r2_score\n",
    "\n",
    "# Préparation des données\n",
    "X = df.drop(columns='MedHouseVal')\n",
    "y = df['MedHouseVal']\n",
    "\n",
    "# Optionnel mais recommandé : standardisation\n",
    "from sklearn.preprocessing import StandardScaler\n",
    "scaler = StandardScaler()\n",
    "X_scaled = scaler.fit_transform(X)\n",
    "\n",
    "# Split train/test\n",
    "X_train, X_test, y_train, y_test = train_test_split(X_scaled, y, test_size=0.2, random_state=42)\n",
    "\n",
    "# Créer et entraîner l’arbre\n",
    "tree = DecisionTreeRegressor(max_depth=10, random_state=42)\n",
    "tree.fit(X_train, y_train)\n",
    "\n",
    "# Prédictions\n",
    "y_pred = tree.predict(X_test)\n",
    "\n",
    "# Évaluation\n",
    "print(\"📉 MSE :\", mean_squared_error(y_test, y_pred))\n",
    "print(\"📈 R² Score :\", r2_score(y_test, y_pred))\n"
   ]
  },
  {
   "cell_type": "code",
   "execution_count": null,
   "id": "8c137159",
   "metadata": {},
   "outputs": [],
   "source": [
    "for d in range(2, 10):\n",
    "    tree = DecisionTreeRegressor(max_depth=d, random_state=42)\n",
    "    tree.fit(X_train, y_train)\n",
    "    r2 = tree.score(X_test, y_test)\n",
    "    print(f\"max_depth={d} → R² = {r2:.4f}\")\n"
   ]
  },
  {
   "cell_type": "code",
   "execution_count": null,
   "id": "c14c7764",
   "metadata": {},
   "outputs": [],
   "source": [
    "print(\"📉 MSE :\", mean_squared_error(y_test, y_pred))\n",
    "print(\"📈 R² Score :\", r2_score(y_test, y_pred))"
   ]
  },
  {
   "cell_type": "code",
   "execution_count": null,
   "id": "95cdabc2",
   "metadata": {},
   "outputs": [],
   "source": [
    "from sklearn.tree import plot_tree\n",
    "import matplotlib.pyplot as plt\n",
    "\n",
    "plt.figure(figsize=(20, 10))\n",
    "plot_tree(tree, feature_names=df.columns[:-1], filled=True, max_depth=2)  # max_depth limité pour lisibilité\n",
    "plt.show()\n"
   ]
  },
  {
   "cell_type": "code",
   "execution_count": null,
   "id": "8fe4a5e5",
   "metadata": {},
   "outputs": [],
   "source": [
    "from sklearn.ensemble import RandomForestRegressor\n",
    "from sklearn.metrics import mean_squared_error, r2_score\n",
    "from sklearn.model_selection import train_test_split\n",
    "\n",
    "# 1. Séparer les données\n",
    "X = df.drop(columns='MedHouseVal')\n",
    "y = df['MedHouseVal']\n",
    "\n",
    "# 2. Standardisation (pas obligatoire pour Random Forest, mais utile si comparé à d'autres modèles)\n",
    "from sklearn.preprocessing import StandardScaler\n",
    "scaler = StandardScaler()\n",
    "X_scaled = scaler.fit_transform(X)\n",
    "\n",
    "# 3. Split train/test\n",
    "X_train, X_test, y_train, y_test = train_test_split(X_scaled, y, test_size=0.2, random_state=42)\n",
    "\n",
    "# 4. Créer et entraîner le modèle\n",
    "rf = RandomForestRegressor(n_estimators=100, max_depth=None, random_state=42)\n",
    "rf.fit(X_train, y_train)\n",
    "\n",
    "# 5. Prédictions\n",
    "y_pred = rf.predict(X_test)\n",
    "\n",
    "# 6. Évaluation\n",
    "print(\"📉 MSE :\", mean_squared_error(y_test, y_pred))\n",
    "print(\"📈 R² Score :\", r2_score(y_test, y_pred))\n"
   ]
  },
  {
   "cell_type": "markdown",
   "id": "ce9a9027",
   "metadata": {},
   "source": [
    "<div style=\"text-align: center;\">\n",
    "    <h2>SVM: Support Vector Machine</h2>\n",
    "</div>"
   ]
  },
  {
   "cell_type": "code",
   "execution_count": null,
   "id": "5528ff45",
   "metadata": {},
   "outputs": [],
   "source": [
    "X = df.drop(columns='MedHouseVal')  # Toutes les colonnes sauf 'MedHouseVal'\n",
    "y = df['MedHouseVal']  # La colonne cible 'MedHouseVal'\n",
    "\n",
    "# 1. Standardisation des données\n",
    "scaler_X = StandardScaler()  # Pour normaliser les features\n",
    "scaler_y = StandardScaler()  # Pour normaliser la variable cible\n",
    "\n",
    "X_scaled = scaler_X.fit_transform(X)  # Normalisation des caractéristiques\n",
    "y_scaled = scaler_y.fit_transform(y.values.reshape(-1, 1)).flatten()  # Normalisation de la cible\n",
    "\n",
    "# 2. Diviser les données en ensembles d'entraînement et de test (80% train, 20% test)\n",
    "X_train, X_test, y_train, y_test = train_test_split(X_scaled, y_scaled, test_size=0.2, random_state=42)\n",
    "\n",
    "# 3. Création et entraînement du modèle SVM (SVR)\n",
    "svm_regressor = SVR(kernel='rbf', C=100, epsilon=0.1)  # Paramètres à ajuster : 'rbf' pour noyau radial\n",
    "svm_regressor.fit(X_train, y_train)\n",
    "\n",
    "# 4. Prédictions sur les données de test\n",
    "y_pred = svm_regressor.predict(X_test)\n",
    "\n",
    "\n",
    "# 6. Évaluation du modèle\n",
    "mse = mean_squared_error(y_test, y_pred)\n",
    "r2 = r2_score(y_test, y_pred)\n",
    "\n",
    "print(\"📉 Mean Squared Error (MSE) :\", mse)\n",
    "print(\"📈 R² Score :\", r2)"
   ]
  },
  {
   "cell_type": "code",
   "execution_count": 61,
   "id": "54eee609",
   "metadata": {},
   "outputs": [
    {
     "data": {
      "image/png": "[encoded data removed]",
      "text/plain": [
       "<Figure size 1000x600 with 1 Axes>"
      ]
     },
     "metadata": {},
     "output_type": "display_data"
    }
   ],
   "source": [
    "models = {\n",
    "    \"Linear Regression\": LinearRegression(),\n",
    "    \"KNN\": KNeighborsRegressor(n_neighbors=13),\n",
    "    \"Decision Tree\": DecisionTreeRegressor(max_depth=8),\n",
    "    \"Random Forest\": RandomForestRegressor(n_estimators=100),\n",
    "    \"SVM\": SVR(kernel='rbf', C=100, epsilon=0.1)\n",
    "}\n",
    "\n",
    "results = {}\n",
    "for name, model in models.items():\n",
    "    model.fit(X_train, y_train)\n",
    "    y_pred = model.predict(X_test)\n",
    "    results[name] = r2_score(y_test, y_pred)\n",
    "\n",
    "# Affichage\n",
    "plt.figure(figsize=(10, 6))\n",
    "sns.barplot(x=list(results.keys()), y=list(results.values()), palette='viridis')\n",
    "plt.title(\"Comparaison des scores R² des modèles\")\n",
    "plt.ylabel(\"R² Score\")\n",
    "plt.xticks(rotation=15)\n",
    "plt.ylim(0, 1)\n",
    "plt.grid(True)\n",
    "plt.show()"
   ]
  },
  {
   "cell_type": "code",
   "execution_count": null,
   "id": "6b7a0026",
   "metadata": {},
   "outputs": [
    {
     "data": {
      "text/plain": [
       "['random_forest_model.pkl']"
      ]
     },
     "execution_count": 64,
     "metadata": {},
     "output_type": "execute_result"
    }
   ],
   "source": [
    "import joblib\n",
    "joblib.dump(rf, 'random_forest_model.pkl')"
   ]
  },
  {
   "cell_type": "code",
   "execution_count": null,
   "id": "89156aad",
   "metadata": {},
   "outputs": [],
   "source": []
  }
 ],
 "metadata": {
  "kernelspec": {
   "display_name": "base",
   "language": "python",
   "name": "python3"
  },
  "language_info": {
   "codemirror_mode": {
    "name": "ipython",
    "version": 3
   },
   "file_extension": ".py",
   "mimetype": "text/x-python",
   "name": "python",
   "nbconvert_exporter": "python",
   "pygments_lexer": "ipython3",
   "version": "3.12.7"
  }
 },
 "nbformat": 4,
 "nbformat_minor": 5
}
